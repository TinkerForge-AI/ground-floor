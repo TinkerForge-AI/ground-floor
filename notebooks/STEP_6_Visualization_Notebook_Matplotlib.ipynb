{
 "cells": [
  {
   "cell_type": "markdown",
   "id": "736ae08f",
   "metadata": {},
   "source": [
    "# STEP 6: Visualize MNIST Results\n",
    "Use this notebook to plot training loss and sample predictions."
   ]
  },
  {
   "cell_type": "code",
   "execution_count": null,
   "id": "1c13bd99",
   "metadata": {},
   "outputs": [],
   "source": [
    "import wandb\n",
    "api = wandb.Api()\n",
    "run = api.run('your-entity/mnist-tutorial/latest')\n",
    "history = run.history(keys=['train_loss'])\n",
    "import matplotlib.pyplot as plt\n",
    "plt.plot(history['train_loss'])\n",
    "plt.title('Training Loss')\n",
    "plt.xlabel('Step')\n",
    "plt.ylabel('Loss')\n",
    "plt.show()"
   ]
  }
 ],
 "metadata": {
  "language_info": {
   "name": "python"
  }
 },
 "nbformat": 4,
 "nbformat_minor": 5
}
