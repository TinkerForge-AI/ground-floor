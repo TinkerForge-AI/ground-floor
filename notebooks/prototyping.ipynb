{
 "cells": [
  {
   "cell_type": "markdown",
   "id": "f386ca23",
   "metadata": {},
   "source": [
    "# Prototyping and Visualization\n",
    "This notebook is for quick experiments and data visualization."
   ]
  },
  {
   "cell_type": "code",
   "execution_count": null,
   "id": "9976bc1a",
   "metadata": {},
   "outputs": [],
   "source": [
    "# Example: Visualize synthetic dataset\n",
    "import torch\n",
    "from data.simple_dataset import SimpleDataset\n",
    "import matplotlib.pyplot as plt\n",
    "\n",
    "dataset = SimpleDataset(size=100, input_dim=1)\n",
    "x, y = zip(*[dataset[i] for i in range(len(dataset))])\n",
    "x = torch.stack(x).numpy().flatten()\n",
    "y = torch.stack(y).numpy().flatten()\n",
    "\n",
    "plt.scatter(x, y)\n",
    "plt.xlabel('Input')\n",
    "plt.ylabel('Target')\n",
    "plt.title('Synthetic Data')\n",
    "plt.show()"
   ]
  }
 ],
 "metadata": {
  "language_info": {
   "name": "python"
  }
 },
 "nbformat": 4,
 "nbformat_minor": 5
}
